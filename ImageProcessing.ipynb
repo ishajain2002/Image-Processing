{
 "cells": [
  {
   "cell_type": "code",
   "execution_count": 1,
   "id": "49752b93",
   "metadata": {},
   "outputs": [],
   "source": [
    "#pip list"
   ]
  },
  {
   "cell_type": "code",
   "execution_count": 2,
   "id": "a1dbcbf3",
   "metadata": {},
   "outputs": [],
   "source": [
    "#pip install simple_image_download==0.2\n",
    "#?-officialdocs\n",
    "#bs=batch size\n"
   ]
  },
  {
   "cell_type": "code",
   "execution_count": 3,
   "id": "e39bfa12",
   "metadata": {},
   "outputs": [],
   "source": [
    "from simple_image_download import simple_image_download as simp\n"
   ]
  },
  {
   "cell_type": "code",
   "execution_count": 4,
   "id": "51ded93a",
   "metadata": {},
   "outputs": [],
   "source": [
    "simp = simp.simple_image_download()"
   ]
  },
  {
   "cell_type": "code",
   "execution_count": 5,
   "id": "48d301ea",
   "metadata": {},
   "outputs": [],
   "source": [
    "l=['Cars','Flowers']"
   ]
  },
  {
   "cell_type": "code",
   "execution_count": 6,
   "id": "23b74990",
   "metadata": {},
   "outputs": [],
   "source": [
    "no=50"
   ]
  },
  {
   "cell_type": "code",
   "execution_count": 7,
   "id": "a6598d76",
   "metadata": {},
   "outputs": [],
   "source": [
    "# for i in l:\n",
    "#     simp.download(i,no)"
   ]
  },
  {
   "cell_type": "code",
   "execution_count": 8,
   "id": "a66a38bf",
   "metadata": {},
   "outputs": [],
   "source": [
    "from fastai.vision.all import*"
   ]
  },
  {
   "cell_type": "code",
   "execution_count": 9,
   "id": "f78e4ed6",
   "metadata": {},
   "outputs": [],
   "source": [
    "path= Path(\"E:\\ISHA PRGM\\data science\\jupyter\\simple_images\")"
   ]
  },
  {
   "cell_type": "code",
   "execution_count": 10,
   "id": "d7a65fa3",
   "metadata": {},
   "outputs": [],
   "source": [
    "# ImageDataLoaders.from_folder?\n"
   ]
  },
  {
   "cell_type": "code",
   "execution_count": 11,
   "id": "0a39af00",
   "metadata": {},
   "outputs": [
    {
     "name": "stdout",
     "output_type": "stream",
     "text": [
      "Due to IPython and Windows limitation, python multiprocessing isn't available now.\n",
      "So `number_workers` is changed to 0 to avoid getting stuck\n"
     ]
    }
   ],
   "source": [
    "data = ImageDataLoaders.from_folder(path,bs=8,valid_pct=0.1,item_tfms=Resize(224))\n",
    "# data imported"
   ]
  },
  {
   "cell_type": "code",
   "execution_count": 12,
   "id": "5864db97",
   "metadata": {},
   "outputs": [],
   "source": [
    "#MODEL\n",
    "# vision learner will be used\n",
    "# arch= architecture\n",
    "# dls=data\n",
    "# data augmentation\n",
    "# data cleaning\n",
    "# resnet18 pre trained model\n",
    "# fit function "
   ]
  },
  {
   "cell_type": "code",
   "execution_count": 13,
   "id": "9769cc25",
   "metadata": {},
   "outputs": [],
   "source": [
    "# vision_learner?\n",
    "\n"
   ]
  },
  {
   "cell_type": "code",
   "execution_count": 14,
   "id": "128b9236",
   "metadata": {},
   "outputs": [
    {
     "name": "stderr",
     "output_type": "stream",
     "text": [
      "C:\\Users\\hp\\AppData\\Local\\Programs\\Python\\Python310\\lib\\site-packages\\torchvision\\models\\_utils.py:208: UserWarning: The parameter 'pretrained' is deprecated since 0.13 and will be removed in 0.15, please use 'weights' instead.\n",
      "  warnings.warn(\n",
      "C:\\Users\\hp\\AppData\\Local\\Programs\\Python\\Python310\\lib\\site-packages\\torchvision\\models\\_utils.py:223: UserWarning: Arguments other than a weight enum or `None` for 'weights' are deprecated since 0.13 and will be removed in 0.15. The current behavior is equivalent to passing `weights=ResNet18_Weights.IMAGENET1K_V1`. You can also use `weights=ResNet18_Weights.DEFAULT` to get the most up-to-date weights.\n",
      "  warnings.warn(msg)\n"
     ]
    }
   ],
   "source": [
    "learn=vision_learner(dls=data,arch=resnet18,metrics=[accuracy])"
   ]
  },
  {
   "cell_type": "code",
   "execution_count": 15,
   "id": "077dfc70",
   "metadata": {},
   "outputs": [
    {
     "data": {
      "text/html": [
       "\n",
       "<style>\n",
       "    /* Turns off some styling */\n",
       "    progress {\n",
       "        /* gets rid of default border in Firefox and Opera. */\n",
       "        border: none;\n",
       "        /* Needs to be in here for Safari polyfill so background images work as expected. */\n",
       "        background-size: auto;\n",
       "    }\n",
       "    progress:not([value]), progress:not([value])::-webkit-progress-bar {\n",
       "        background: repeating-linear-gradient(45deg, #7e7e7e, #7e7e7e 10px, #5c5c5c 10px, #5c5c5c 20px);\n",
       "    }\n",
       "    .progress-bar-interrupted, .progress-bar-interrupted::-webkit-progress-bar {\n",
       "        background: #F44336;\n",
       "    }\n",
       "</style>\n"
      ],
      "text/plain": [
       "<IPython.core.display.HTML object>"
      ]
     },
     "metadata": {},
     "output_type": "display_data"
    },
    {
     "data": {
      "text/html": [
       "<table border=\"1\" class=\"dataframe\">\n",
       "  <thead>\n",
       "    <tr style=\"text-align: left;\">\n",
       "      <th>epoch</th>\n",
       "      <th>train_loss</th>\n",
       "      <th>valid_loss</th>\n",
       "      <th>accuracy</th>\n",
       "      <th>time</th>\n",
       "    </tr>\n",
       "  </thead>\n",
       "  <tbody>\n",
       "    <tr>\n",
       "      <td>0</td>\n",
       "      <td>0.965029</td>\n",
       "      <td>0.009109</td>\n",
       "      <td>1.000000</td>\n",
       "      <td>00:13</td>\n",
       "    </tr>\n",
       "    <tr>\n",
       "      <td>1</td>\n",
       "      <td>0.534813</td>\n",
       "      <td>0.000569</td>\n",
       "      <td>1.000000</td>\n",
       "      <td>00:13</td>\n",
       "    </tr>\n",
       "    <tr>\n",
       "      <td>2</td>\n",
       "      <td>0.371115</td>\n",
       "      <td>0.000371</td>\n",
       "      <td>1.000000</td>\n",
       "      <td>00:12</td>\n",
       "    </tr>\n",
       "  </tbody>\n",
       "</table>"
      ],
      "text/plain": [
       "<IPython.core.display.HTML object>"
      ]
     },
     "metadata": {},
     "output_type": "display_data"
    },
    {
     "name": "stderr",
     "output_type": "stream",
     "text": [
      "C:\\Users\\hp\\AppData\\Local\\Programs\\Python\\Python310\\lib\\site-packages\\PIL\\Image.py:959: UserWarning: Palette images with Transparency expressed in bytes should be converted to RGBA images\n",
      "  warnings.warn(\n"
     ]
    }
   ],
   "source": [
    "learn.fit_one_cycle(3)"
   ]
  },
  {
   "cell_type": "code",
   "execution_count": 16,
   "id": "085a4ef8",
   "metadata": {},
   "outputs": [
    {
     "name": "stdout",
     "output_type": "stream",
     "text": [
      "Requirement already satisfied: pillow in c:\\users\\hp\\appdata\\local\\programs\\python\\python310\\lib\\site-packages (9.2.0)\n",
      "Note: you may need to restart the kernel to use updated packages.\n"
     ]
    },
    {
     "name": "stderr",
     "output_type": "stream",
     "text": [
      "WARNING: You are using pip version 21.2.4; however, version 22.2.2 is available.\n",
      "You should consider upgrading via the 'C:\\Users\\hp\\AppData\\Local\\Programs\\Python\\Python310\\python.exe -m pip install --upgrade pip' command.\n"
     ]
    }
   ],
   "source": [
    "pip install pillow"
   ]
  },
  {
   "cell_type": "code",
   "execution_count": 17,
   "id": "07cf1ba0",
   "metadata": {},
   "outputs": [],
   "source": [
    "from PIL import Image"
   ]
  },
  {
   "cell_type": "code",
   "execution_count": 28,
   "id": "81ae6e31",
   "metadata": {},
   "outputs": [
    {
     "ename": "SyntaxError",
     "evalue": "invalid syntax (1012408878.py, line 1)",
     "output_type": "error",
     "traceback": [
      "\u001b[1;36m  Cell \u001b[1;32mIn [28], line 1\u001b[1;36m\u001b[0m\n\u001b[1;33m    image=Image.open(path=E:\\ISHA PRGM\\data science\\jupyter\\simple_images)\u001b[0m\n\u001b[1;37m                           ^\u001b[0m\n\u001b[1;31mSyntaxError\u001b[0m\u001b[1;31m:\u001b[0m invalid syntax\n"
     ]
    }
   ],
   "source": [
    "image=Image.open(path=E:\\ISHA PRGM\\data science\\jupyter\\simple_images)"
   ]
  },
  {
   "cell_type": "code",
   "execution_count": null,
   "id": "0a4deb72",
   "metadata": {},
   "outputs": [],
   "source": []
  },
  {
   "cell_type": "code",
   "execution_count": null,
   "id": "df079175",
   "metadata": {},
   "outputs": [],
   "source": []
  }
 ],
 "metadata": {
  "kernelspec": {
   "display_name": "Python 3.10.2 64-bit",
   "language": "python",
   "name": "python3"
  },
  "language_info": {
   "codemirror_mode": {
    "name": "ipython",
    "version": 3
   },
   "file_extension": ".py",
   "mimetype": "text/x-python",
   "name": "python",
   "nbconvert_exporter": "python",
   "pygments_lexer": "ipython3",
   "version": "3.10.2"
  },
  "vscode": {
   "interpreter": {
    "hash": "63963b3f4c440940f0b94a3100916033a226cb4f45979123153792d60aa56d6a"
   }
  }
 },
 "nbformat": 4,
 "nbformat_minor": 5
}
